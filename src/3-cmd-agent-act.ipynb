{
 "cells": [
  {
   "cell_type": "code",
   "execution_count": null,
   "metadata": {},
   "outputs": [],
   "source": [
    "# 在命令行交互运行"
   ]
  },
  {
   "cell_type": "code",
   "execution_count": 3,
   "metadata": {},
   "outputs": [
    {
     "name": "stdout",
     "output_type": "stream",
     "text": [
      "Dialog Parameters: \n",
      "{\n",
      "  \"simulation_epoch_size\": 50, \n",
      "  \"slot_err_mode\": 0, \n",
      "  \"diaact_nl_pairs\": \"./deep_dialog/data/dia_act_nl_pairs.v6.json\", \n",
      "  \"save_check_point\": 10, \n",
      "  \"episodes\": 500, \n",
      "  \"predict_mode\": false, \n",
      "  \"cmd_input_mode\": 1, \n",
      "  \"goal_file_path\": \"./deep_dialog/data/user_goals_first_turn_template.part.movie.v1.p\", \n",
      "  \"max_turn\": 40, \n",
      "  \"experience_replay_pool_size\": 1000, \n",
      "  \"write_model_dir\": \"./deep_dialog/checkpoints/\", \n",
      "  \"usr\": 1, \n",
      "  \"auto_suggest\": 0, \n",
      "  \"run_mode\": 0, \n",
      "  \"trained_model_path\": null, \n",
      "  \"success_rate_threshold\": 0.3, \n",
      "  \"nlu_model_path\": \"./deep_dialog/models/nlu/lstm_[1468447442.91]_39_80_0.921.p\", \n",
      "  \"epsilon\": 0, \n",
      "  \"batch_size\": 16, \n",
      "  \"learning_phase\": \"all\", \n",
      "  \"nlg_model_path\": \"./deep_dialog/models/nlg/lstm_tanh_relu_[1468202263.38]_2_0.610.p\", \n",
      "  \"act_set\": \"./deep_dialog/data/dia_acts.txt\", \n",
      "  \"movie_kb_path\": \"./deep_dialog/data/movie_kb.1k.p\", \n",
      "  \"slot_err_prob\": 0.0, \n",
      "  \"warm_start\": 1, \n",
      "  \"warm_start_epochs\": 100, \n",
      "  \"dict_path\": \"./deep_dialog/data/dicts.v3.p\", \n",
      "  \"intent_err_prob\": 0.0, \n",
      "  \"slot_set\": \"./deep_dialog/data/slot_set.txt\", \n",
      "  \"act_level\": 0, \n",
      "  \"dqn_hidden_size\": 60, \n",
      "  \"agt\": 0, \n",
      "  \"split_fold\": 5, \n",
      "  \"gamma\": 0.9\n",
      "}\n",
      "Episode: 0\n",
      "New episode, user goal:\n",
      "{\n",
      "  \"request_slots\": {\n",
      "    \"date\": \"UNK\", \n",
      "    \"ticket\": \"UNK\", \n",
      "    \"theater\": \"UNK\", \n",
      "    \"starttime\": \"UNK\"\n",
      "  }, \n",
      "  \"diaact\": \"request\", \n",
      "  \"inform_slots\": {\n",
      "    \"numberofpeople\": \"3\", \n",
      "    \"moviename\": \"gods egypt\"\n",
      "  }\n",
      "}\n",
      "Turn 0 usr: What date can I book 3 tickets for gods egypt?\n",
      "(Suggested Values: date: ['Friday the 10th'])\n",
      "Turn 1 sys: ^C\n",
      "Traceback (most recent call last):\n",
      "  File \"run.py\", line 415, in <module>\n",
      "    run_episodes(num_episodes, status)\n",
      "  File \"run.py\", line 365, in run_episodes\n",
      "    episode_over, reward = dialog_manager.next_turn()\n",
      "  File \"/home/xuehp/git/TC-Bot/src/deep_dialog/dialog_system/dialog_manager.py\", line 48, in next_turn\n",
      "    self.agent_action = self.agent.state_to_action(self.state)\n",
      "  File \"/home/xuehp/git/TC-Bot/src/deep_dialog/agents/agent_cmd.py\", line 32, in state_to_action\n",
      "    command = raw_input()\n",
      "KeyboardInterrupt\n"
     ]
    }
   ],
   "source": [
    "!python2 run.py --agt 0 --usr 1 --max_turn 40 \\\n",
    "\t      --episodes 150 \\\n",
    "\t      --movie_kb_path ./deep_dialog/data/movie_kb.1k.p  \\\n",
    "\t      --goal_file_path ./deep_dialog/data/user_goals_first_turn_template.part.movie.v1.p \\\n",
    "\t      --intent_err_prob 0.00 \\\n",
    "\t      --slot_err_prob 0.00 \\\n",
    "\t      --episodes 500 \\\n",
    "\t      --act_level 0 \\\n",
    "\t      --run_mode 0 \\\n",
    "\t      --cmd_input_mode 1"
   ]
  },
  {
   "cell_type": "code",
   "execution_count": 4,
   "metadata": {},
   "outputs": [
    {
     "ename": "SyntaxError",
     "evalue": "invalid syntax (<ipython-input-4-ce0a59298691>, line 1)",
     "output_type": "error",
     "traceback": [
      "\u001b[0;36m  File \u001b[0;32m\"<ipython-input-4-ce0a59298691>\"\u001b[0;36m, line \u001b[0;32m1\u001b[0m\n\u001b[0;31m    Friday the 10th\u001b[0m\n\u001b[0m             ^\u001b[0m\n\u001b[0;31mSyntaxError\u001b[0m\u001b[0;31m:\u001b[0m invalid syntax\n"
     ]
    }
   ],
   "source": [
    "Friday the 10th"
   ]
  },
  {
   "cell_type": "code",
   "execution_count": null,
   "metadata": {},
   "outputs": [],
   "source": []
  }
 ],
 "metadata": {
  "kernelspec": {
   "display_name": "Python 3",
   "language": "python",
   "name": "python3"
  },
  "language_info": {
   "codemirror_mode": {
    "name": "ipython",
    "version": 3
   },
   "file_extension": ".py",
   "mimetype": "text/x-python",
   "name": "python",
   "nbconvert_exporter": "python",
   "pygments_lexer": "ipython3",
   "version": "3.7.3"
  }
 },
 "nbformat": 4,
 "nbformat_minor": 2
}
